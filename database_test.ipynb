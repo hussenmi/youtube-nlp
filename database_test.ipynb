{
 "cells": [
  {
   "cell_type": "code",
   "execution_count": 1,
   "metadata": {},
   "outputs": [],
   "source": [
    "import mysql.connector\n",
    "import sqlalchemy\n",
    "\n",
    "db = mysql.connector.connect(\n",
    "    host=os.environ.get('DB_IP_ADDRESS'),\n",
    "    user=\"hussen\",\n",
    "    passwd=os.environ.get('DB_PASSWORD_REMOTE'),\n",
    "    database=\"testdatabase\"\n",
    ")\n",
    "\n",
    "mycursor = db.cursor()\n",
    "\n",
    "\n",
    "\n",
    "engine = sqlalchemy.create_engine(f\"mysql+mysqlconnector://hussen:{os.environ.get('DB_PASSWORD_REMOTE')}@{os.environ.get('DB_IP_ADDRESS')}:3306/testdatabase\")\n",
    "\n",
    "\n",
    "\n",
    "# mycursor.execute('CREATE DATABASE IF NOT EXISTS testdatabase')\n"
   ]
  },
  {
   "cell_type": "code",
   "execution_count": 2,
   "metadata": {},
   "outputs": [],
   "source": [
    "import os\n",
    "import pandas as pd\n",
    "\n",
    "from googleapiclient.discovery import build\n",
    "\n",
    "api_key = os.environ.get(\"YT_API_KEY\")\n",
    "\n",
    "#@lru_cache\n",
    "def get_comments_and_replies(videoId):\n",
    "\n",
    "    youtube = build('youtube', 'v3', developerKey=api_key)\n",
    "\n",
    "    request = youtube.commentThreads().list(\n",
    "            part = 'snippet',\n",
    "            videoId = videoId,\n",
    "            order = 'relevance'\n",
    "        )\n",
    "\n",
    "    response = request.execute()\n",
    "\n",
    "    comments = []\n",
    "\n",
    "    while response:\n",
    "        for item in response['items']:\n",
    "            comment = item['snippet']['topLevelComment']['snippet']['textDisplay']\n",
    "\n",
    "            comments.append(comment)\n",
    "\n",
    "        if 'nextPageToken' in response:\n",
    "            request = youtube.commentThreads().list(\n",
    "                    part = 'snippet',\n",
    "                    videoId = videoId,\n",
    "                    order = 'relevance',\n",
    "                    pageToken = response['nextPageToken']\n",
    "                )\n",
    "\n",
    "            response = request.execute()            \n",
    "\n",
    "        else:\n",
    "            response = False\n",
    "\n",
    "\n",
    "    return comments\n"
   ]
  },
  {
   "cell_type": "code",
   "execution_count": 3,
   "metadata": {},
   "outputs": [],
   "source": [
    "df = pd.DataFrame(columns=['videoId', 'comments'])\n",
    "df['comments'] = get_comments_and_replies(videoId='TT95ZWbpa-I')\n",
    "df.loc[:,'videoId'] = 'TT95ZWbpa-I'"
   ]
  },
  {
   "cell_type": "code",
   "execution_count": 4,
   "metadata": {},
   "outputs": [
    {
     "data": {
      "text/html": [
       "<div>\n",
       "<style scoped>\n",
       "    .dataframe tbody tr th:only-of-type {\n",
       "        vertical-align: middle;\n",
       "    }\n",
       "\n",
       "    .dataframe tbody tr th {\n",
       "        vertical-align: top;\n",
       "    }\n",
       "\n",
       "    .dataframe thead th {\n",
       "        text-align: right;\n",
       "    }\n",
       "</style>\n",
       "<table border=\"1\" class=\"dataframe\">\n",
       "  <thead>\n",
       "    <tr style=\"text-align: right;\">\n",
       "      <th></th>\n",
       "      <th>videoId</th>\n",
       "      <th>comments</th>\n",
       "    </tr>\n",
       "  </thead>\n",
       "  <tbody>\n",
       "    <tr>\n",
       "      <th>0</th>\n",
       "      <td>TT95ZWbpa-I</td>\n",
       "      <td>Get 68% off NordVPN! Only $3.71/mo plus 1 mont...</td>\n",
       "    </tr>\n",
       "    <tr>\n",
       "      <th>1</th>\n",
       "      <td>TT95ZWbpa-I</td>\n",
       "      <td>impressive how she so thoughtfully embraces be...</td>\n",
       "    </tr>\n",
       "    <tr>\n",
       "      <th>2</th>\n",
       "      <td>TT95ZWbpa-I</td>\n",
       "      <td>Am I the only one who wants a whole movie with...</td>\n",
       "    </tr>\n",
       "    <tr>\n",
       "      <th>3</th>\n",
       "      <td>TT95ZWbpa-I</td>\n",
       "      <td>When your roommate studies abroad for a semest...</td>\n",
       "    </tr>\n",
       "    <tr>\n",
       "      <th>4</th>\n",
       "      <td>TT95ZWbpa-I</td>\n",
       "      <td>People say vegans are annoying but I’d say peo...</td>\n",
       "    </tr>\n",
       "  </tbody>\n",
       "</table>\n",
       "</div>"
      ],
      "text/plain": [
       "       videoId                                           comments\n",
       "0  TT95ZWbpa-I  Get 68% off NordVPN! Only $3.71/mo plus 1 mont...\n",
       "1  TT95ZWbpa-I  impressive how she so thoughtfully embraces be...\n",
       "2  TT95ZWbpa-I  Am I the only one who wants a whole movie with...\n",
       "3  TT95ZWbpa-I  When your roommate studies abroad for a semest...\n",
       "4  TT95ZWbpa-I  People say vegans are annoying but I’d say peo..."
      ]
     },
     "execution_count": 4,
     "metadata": {},
     "output_type": "execute_result"
    }
   ],
   "source": [
    "df.head()"
   ]
  },
  {
   "cell_type": "code",
   "execution_count": 5,
   "metadata": {},
   "outputs": [
    {
     "data": {
      "text/plain": [
       "1929"
      ]
     },
     "execution_count": 5,
     "metadata": {},
     "output_type": "execute_result"
    }
   ],
   "source": [
    "df.to_sql(\n",
    "    name='comments',\n",
    "    con=engine,\n",
    "    if_exists='replace',\n",
    "    index=False\n",
    ")"
   ]
  },
  {
   "cell_type": "code",
   "execution_count": 6,
   "metadata": {},
   "outputs": [
    {
     "data": {
      "text/html": [
       "<div>\n",
       "<style scoped>\n",
       "    .dataframe tbody tr th:only-of-type {\n",
       "        vertical-align: middle;\n",
       "    }\n",
       "\n",
       "    .dataframe tbody tr th {\n",
       "        vertical-align: top;\n",
       "    }\n",
       "\n",
       "    .dataframe thead th {\n",
       "        text-align: right;\n",
       "    }\n",
       "</style>\n",
       "<table border=\"1\" class=\"dataframe\">\n",
       "  <thead>\n",
       "    <tr style=\"text-align: right;\">\n",
       "      <th></th>\n",
       "      <th>videoId</th>\n",
       "      <th>comments</th>\n",
       "    </tr>\n",
       "  </thead>\n",
       "  <tbody>\n",
       "    <tr>\n",
       "      <th>0</th>\n",
       "      <td>TT95ZWbpa-I</td>\n",
       "      <td>Get 68% off NordVPN! Only $3.71/mo plus 1 mont...</td>\n",
       "    </tr>\n",
       "    <tr>\n",
       "      <th>1</th>\n",
       "      <td>TT95ZWbpa-I</td>\n",
       "      <td>impressive how she so thoughtfully embraces be...</td>\n",
       "    </tr>\n",
       "    <tr>\n",
       "      <th>2</th>\n",
       "      <td>TT95ZWbpa-I</td>\n",
       "      <td>Am I the only one who wants a whole movie with...</td>\n",
       "    </tr>\n",
       "    <tr>\n",
       "      <th>3</th>\n",
       "      <td>TT95ZWbpa-I</td>\n",
       "      <td>When your roommate studies abroad for a semest...</td>\n",
       "    </tr>\n",
       "    <tr>\n",
       "      <th>4</th>\n",
       "      <td>TT95ZWbpa-I</td>\n",
       "      <td>People say vegans are annoying but I’d say peo...</td>\n",
       "    </tr>\n",
       "  </tbody>\n",
       "</table>\n",
       "</div>"
      ],
      "text/plain": [
       "       videoId                                           comments\n",
       "0  TT95ZWbpa-I  Get 68% off NordVPN! Only $3.71/mo plus 1 mont...\n",
       "1  TT95ZWbpa-I  impressive how she so thoughtfully embraces be...\n",
       "2  TT95ZWbpa-I  Am I the only one who wants a whole movie with...\n",
       "3  TT95ZWbpa-I  When your roommate studies abroad for a semest...\n",
       "4  TT95ZWbpa-I  People say vegans are annoying but I’d say peo..."
      ]
     },
     "execution_count": 6,
     "metadata": {},
     "output_type": "execute_result"
    }
   ],
   "source": [
    "df2 = pd.read_sql_table('comments', con=engine)\n",
    "df2.head()"
   ]
  },
  {
   "cell_type": "code",
   "execution_count": 9,
   "metadata": {},
   "outputs": [
    {
     "name": "stdout",
     "output_type": "stream",
     "text": [
      "('comments',)\n"
     ]
    }
   ],
   "source": [
    "mycursor.execute(\"SHOW TABLES\")\n",
    "\n",
    "print(mycursor.fetchone())\n"
   ]
  }
 ],
 "metadata": {
  "interpreter": {
   "hash": "e7cf4c163e5813daa203d962ef51fb8ab899f1a1389adb3ad828d78228f412aa"
  },
  "kernelspec": {
   "display_name": "Python 3.9.5 ('youtube-api')",
   "language": "python",
   "name": "python3"
  },
  "language_info": {
   "codemirror_mode": {
    "name": "ipython",
    "version": 3
   },
   "file_extension": ".py",
   "mimetype": "text/x-python",
   "name": "python",
   "nbconvert_exporter": "python",
   "pygments_lexer": "ipython3",
   "version": "3.9.5"
  },
  "orig_nbformat": 4
 },
 "nbformat": 4,
 "nbformat_minor": 2
}
