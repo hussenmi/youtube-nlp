{
 "cells": [
  {
   "cell_type": "code",
   "execution_count": 1,
   "metadata": {},
   "outputs": [
    {
     "name": "stdout",
     "output_type": "stream",
     "text": [
      "showing info https://raw.githubusercontent.com/nltk/nltk_data/gh-pages/index.xml\n"
     ]
    },
    {
     "data": {
      "text/plain": [
       "True"
      ]
     },
     "execution_count": 1,
     "metadata": {},
     "output_type": "execute_result"
    }
   ],
   "source": [
    "import nltk\n",
    "nltk.download()"
   ]
  },
  {
   "cell_type": "code",
   "execution_count": 3,
   "metadata": {},
   "outputs": [
    {
     "data": {
      "text/plain": [
       "['The', 'Fulton', 'County', 'Grand', 'Jury', 'said', ...]"
      ]
     },
     "execution_count": 3,
     "metadata": {},
     "output_type": "execute_result"
    }
   ],
   "source": [
    "from nltk.corpus import brown\n",
    "brown.words()"
   ]
  },
  {
   "cell_type": "code",
   "execution_count": 4,
   "metadata": {
    "scrolled": true
   },
   "outputs": [
    {
     "name": "stdout",
     "output_type": "stream",
     "text": [
      "['Hello', 'Hussen', 'and', 'Chris', 'you', 'guys', 'are', 'amazing', 'You', 'are', 'being', 'tokenized']\n"
     ]
    }
   ],
   "source": [
    "from nltk.tokenize import RegexpTokenizer\n",
    "tokenizer = RegexpTokenizer(r'\\w+')\n",
    "#filters out punctuations and separates a sentence into words\n",
    "filterdText=tokenizer.tokenize('Hello Hussen and Chris, you guys are amazing!! You are being tokenized! :)')\n",
    "print(filterdText)"
   ]
  },
  {
   "cell_type": "code",
   "execution_count": 5,
   "metadata": {},
   "outputs": [],
   "source": [
    "import pandas as pd"
   ]
  },
  {
   "cell_type": "code",
   "execution_count": 8,
   "metadata": {},
   "outputs": [],
   "source": [
    "from crawler import ApiCrawler\n",
    "from database import DBConnector\n",
    "\n",
    "crawler = ApiCrawler()\n",
    "database = DBConnector()"
   ]
  },
  {
   "cell_type": "code",
   "execution_count": 2,
   "metadata": {},
   "outputs": [
    {
     "name": "stdout",
     "output_type": "stream",
     "text": [
      "Time taken to execute the function without lru_cache is 5.683228254318237\n"
     ]
    }
   ],
   "source": [
    "import time\n",
    "from functools import lru_cache\n",
    "  \n",
    "# Function that computes Fibonacci numbers without lru_cache\n",
    "def fib_without_cache(n):\n",
    "    if n < 2:\n",
    "        return n\n",
    "    return fib_without_cache(n-1) + fib_without_cache(n-2)\n",
    "      \n",
    "begin = time.time()\n",
    "fib_without_cache(35)\n",
    "end = time.time()\n",
    "\n",
    "print(\"Time taken to execute the function without lru_cache is\", end-begin)"
   ]
  },
  {
   "cell_type": "code",
   "execution_count": 3,
   "metadata": {},
   "outputs": [
    {
     "name": "stdout",
     "output_type": "stream",
     "text": [
      "Time taken to execute the function with lru_cache is 0.0010411739349365234\n"
     ]
    }
   ],
   "source": [
    "  \n",
    "# Function that computes Fibonacci\n",
    "# numbers with lru_cache\n",
    "@lru_cache\n",
    "def fib_with_cache(n):\n",
    "    if n < 2:\n",
    "        return n\n",
    "    return fib_with_cache(n-1) + fib_with_cache(n-2)\n",
    "      \n",
    "begin = time.time()\n",
    "fib_with_cache(50)\n",
    "end = time.time()\n",
    "  \n",
    "print(\"Time taken to execute the function with lru_cache is\", end-begin)"
   ]
  }
 ],
 "metadata": {
  "kernelspec": {
   "display_name": "Python 3",
   "language": "python",
   "name": "python3"
  },
  "language_info": {
   "codemirror_mode": {
    "name": "ipython",
    "version": 3
   },
   "file_extension": ".py",
   "mimetype": "text/x-python",
   "name": "python",
   "nbconvert_exporter": "python",
   "pygments_lexer": "ipython3",
   "version": "3.10.2"
  }
 },
 "nbformat": 4,
 "nbformat_minor": 4
}
