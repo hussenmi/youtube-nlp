{
 "cells": [
  {
   "cell_type": "code",
   "execution_count": 1,
   "metadata": {},
   "outputs": [
    {
     "name": "stdout",
     "output_type": "stream",
     "text": [
      "showing info https://raw.githubusercontent.com/nltk/nltk_data/gh-pages/index.xml\n"
     ]
    },
    {
     "data": {
      "text/plain": [
       "True"
      ]
     },
     "execution_count": 1,
     "metadata": {},
     "output_type": "execute_result"
    }
   ],
   "source": [
    "import nltk\n",
    "nltk.download()"
   ]
  },
  {
   "cell_type": "code",
   "execution_count": 3,
   "metadata": {},
   "outputs": [
    {
     "data": {
      "text/plain": [
       "['The', 'Fulton', 'County', 'Grand', 'Jury', 'said', ...]"
      ]
     },
     "execution_count": 3,
     "metadata": {},
     "output_type": "execute_result"
    }
   ],
   "source": [
    "from nltk.corpus import brown\n",
    "brown.words()"
   ]
  },
  {
   "cell_type": "code",
   "execution_count": 4,
   "metadata": {
    "scrolled": true
   },
   "outputs": [
    {
     "name": "stdout",
     "output_type": "stream",
     "text": [
      "['Hello', 'Hussen', 'and', 'Chris', 'you', 'guys', 'are', 'amazing', 'You', 'are', 'being', 'tokenized']\n"
     ]
    }
   ],
   "source": [
    "from nltk.tokenize import RegexpTokenizer\n",
    "tokenizer = RegexpTokenizer(r'\\w+')\n",
    "#filters out punctuations and separates a sentence into words\n",
    "filterdText=tokenizer.tokenize('Hello Hussen and Chris, you guys are amazing!! You are being tokenized! :)')\n",
    "print(filterdText)"
   ]
  },
  {
   "cell_type": "code",
   "execution_count": 5,
   "metadata": {},
   "outputs": [],
   "source": [
    "import pandas as pd"
   ]
  },
  {
   "cell_type": "code",
   "execution_count": 3,
   "metadata": {},
   "outputs": [
    {
     "ename": "ImportError",
     "evalue": "cannot import name 'ApiCrawler' from 'modules' (c:\\Users\\Christopher Fok\\Documents\\GitHub\\youtube-nlp\\modules.py)",
     "output_type": "error",
     "traceback": [
      "\u001b[1;31m---------------------------------------------------------------------------\u001b[0m",
      "\u001b[1;31mImportError\u001b[0m                               Traceback (most recent call last)",
      "\u001b[1;32mc:\\Users\\Christopher Fok\\Documents\\GitHub\\youtube-nlp\\main.ipynb Cell 5'\u001b[0m in \u001b[0;36m<module>\u001b[1;34m\u001b[0m\n\u001b[1;32m----> <a href='vscode-notebook-cell:/c%3A/Users/Christopher%20Fok/Documents/GitHub/youtube-nlp/main.ipynb#ch0000004?line=0'>1</a>\u001b[0m \u001b[39mfrom\u001b[39;00m \u001b[39mmodules\u001b[39;00m \u001b[39mimport\u001b[39;00m ApiCrawler\n\u001b[0;32m      <a href='vscode-notebook-cell:/c%3A/Users/Christopher%20Fok/Documents/GitHub/youtube-nlp/main.ipynb#ch0000004?line=2'>3</a>\u001b[0m crawler \u001b[39m=\u001b[39m ApiCrawler()\n\u001b[0;32m      <a href='vscode-notebook-cell:/c%3A/Users/Christopher%20Fok/Documents/GitHub/youtube-nlp/main.ipynb#ch0000004?line=3'>4</a>\u001b[0m comments \u001b[39m=\u001b[39m crawler\u001b[39m.\u001b[39mget_comments(\u001b[39m\"\u001b[39m\u001b[39m___NoMi5pp0\u001b[39m\u001b[39m\"\u001b[39m)\n",
      "\u001b[1;31mImportError\u001b[0m: cannot import name 'ApiCrawler' from 'modules' (c:\\Users\\Christopher Fok\\Documents\\GitHub\\youtube-nlp\\modules.py)"
     ]
    }
   ],
   "source": [
    "from modules import ApiCrawler\n",
    "\n",
    "crawler = ApiCrawler()\n",
    "comments = crawler.get_comments(\"___NoMi5pp0\")\n",
    "print(comments)"
   ]
  }
 ],
 "metadata": {
  "kernelspec": {
   "display_name": "Python 3",
   "language": "python",
   "name": "python3"
  },
  "language_info": {
   "codemirror_mode": {
    "name": "ipython",
    "version": 3
   },
   "file_extension": ".py",
   "mimetype": "text/x-python",
   "name": "python",
   "nbconvert_exporter": "python",
   "pygments_lexer": "ipython3",
   "version": "3.10.2"
  }
 },
 "nbformat": 4,
 "nbformat_minor": 4
}
